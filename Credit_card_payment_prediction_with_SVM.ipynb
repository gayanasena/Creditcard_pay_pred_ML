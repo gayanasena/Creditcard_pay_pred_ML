{
  "nbformat": 4,
  "nbformat_minor": 0,
  "metadata": {
    "colab": {
      "provenance": []
    },
    "kernelspec": {
      "name": "python3",
      "display_name": "Python 3"
    },
    "language_info": {
      "name": "python"
    },
    "accelerator": "TPU"
  },
  "cells": [
    {
      "cell_type": "markdown",
      "source": [
        "### 💳 **Credit card payment prediction ML Model** by Gayana Senarathne (KUHDSE21.1F-012)\n",
        "####with - Support vector machines (kernel - rbf)\n",
        "####by using - Credit card Taiwan\n",
        "####Data Source - https://www.kaggle.com/datasets/studymart/credit-card-taiwan-svm-algorithm\n",
        "####Final Accuracy - **0.8196**"
      ],
      "metadata": {
        "id": "NiHu_bZwZP14"
      }
    },
    {
      "cell_type": "markdown",
      "source": [
        "###import libraries"
      ],
      "metadata": {
        "id": "8pi0OOA6bouU"
      }
    },
    {
      "cell_type": "code",
      "source": [
        "import pandas as pd\n",
        "import numpy as np\n",
        "import matplotlib.pyplot as plt"
      ],
      "metadata": {
        "id": "9oZMNqmpbvIJ"
      },
      "execution_count": 1,
      "outputs": []
    },
    {
      "cell_type": "markdown",
      "source": [
        "###import dataset\n"
      ],
      "metadata": {
        "id": "n1EHC5h7cEOn"
      }
    },
    {
      "cell_type": "markdown",
      "source": [
        "Import data"
      ],
      "metadata": {
        "id": "_t7aftiKwH0C"
      }
    },
    {
      "cell_type": "code",
      "source": [
        "# import and find shape of the dataset\n",
        "dataset = pd.read_csv('credit_card.csv')\n",
        "dataset.shape"
      ],
      "metadata": {
        "colab": {
          "base_uri": "https://localhost:8080/"
        },
        "id": "H7M9rEEKvY09",
        "outputId": "2f5bdf53-3924-48b3-e6f7-b22aac425b3a"
      },
      "execution_count": 5,
      "outputs": [
        {
          "output_type": "execute_result",
          "data": {
            "text/plain": [
              "(30000, 25)"
            ]
          },
          "metadata": {},
          "execution_count": 5
        }
      ]
    },
    {
      "cell_type": "markdown",
      "source": [
        "###Data Pre-Processing"
      ],
      "metadata": {
        "id": "kKqtXJwnQvUl"
      }
    },
    {
      "cell_type": "markdown",
      "source": [
        "looking for null values"
      ],
      "metadata": {
        "id": "k1wCreF4dIIk"
      }
    },
    {
      "cell_type": "code",
      "source": [
        "#take sum of the null values in dataset columns\n",
        "dataset.isnull().sum()"
      ],
      "metadata": {
        "colab": {
          "base_uri": "https://localhost:8080/"
        },
        "id": "SyEFIg1UdHHG",
        "outputId": "521fb15c-874f-4272-f74b-73538ecd1fb9"
      },
      "execution_count": 8,
      "outputs": [
        {
          "output_type": "execute_result",
          "data": {
            "text/plain": [
              "ID                            0\n",
              "LIMIT_BAL                     0\n",
              "SEX                           0\n",
              "EDUCATION                     0\n",
              "MARRIAGE                      0\n",
              "AGE                           0\n",
              "PAY_0                         0\n",
              "PAY_2                         0\n",
              "PAY_3                         0\n",
              "PAY_4                         0\n",
              "PAY_5                         0\n",
              "PAY_6                         0\n",
              "BILL_AMT1                     0\n",
              "BILL_AMT2                     0\n",
              "BILL_AMT3                     0\n",
              "BILL_AMT4                     0\n",
              "BILL_AMT5                     0\n",
              "BILL_AMT6                     0\n",
              "PAY_AMT1                      0\n",
              "PAY_AMT2                      0\n",
              "PAY_AMT3                      0\n",
              "PAY_AMT4                      0\n",
              "PAY_AMT5                      0\n",
              "PAY_AMT6                      0\n",
              "default.payment.next.month    0\n",
              "dtype: int64"
            ]
          },
          "metadata": {},
          "execution_count": 8
        }
      ]
    },
    {
      "cell_type": "markdown",
      "source": [
        "Calculate mean of AGE column and replace null values by mean"
      ],
      "metadata": {
        "id": "OxonnwD0wPTc"
      }
    },
    {
      "cell_type": "code",
      "source": [
        "ms = dataset.AGE.mean() # calculate mean of the 'AGE' column\n",
        "dataset.AGE= dataset.AGE.fillna(ms) # fill nan values with mean value"
      ],
      "metadata": {
        "id": "_Oa7bWiRewTy"
      },
      "execution_count": 7,
      "outputs": []
    },
    {
      "cell_type": "markdown",
      "source": [
        "###Split Dataset"
      ],
      "metadata": {
        "id": "Py9ML6RugA0z"
      }
    },
    {
      "cell_type": "markdown",
      "source": [
        "Assign data to x,y variables"
      ],
      "metadata": {
        "id": "EbYvrwuPwfdd"
      }
    },
    {
      "cell_type": "code",
      "source": [
        "X = dataset.drop(['default.payment.next.month'],axis=1) # create x variable without payment.next.month column\n",
        "y = dataset['default.payment.next.month'] # create y variable with payment.next.month column"
      ],
      "metadata": {
        "id": "iMv0XiPAfRAU"
      },
      "execution_count": 9,
      "outputs": []
    },
    {
      "cell_type": "code",
      "source": [
        "#import train_test_split from sklearn and split dataset ro train and test dataset variables\n",
        "from sklearn.model_selection import train_test_split\n",
        "X_train,X_test,y_train,y_test = train_test_split(X,y,test_size=.25,random_state=20)"
      ],
      "metadata": {
        "id": "gYtSUgehgFnG"
      },
      "execution_count": 10,
      "outputs": []
    },
    {
      "cell_type": "markdown",
      "source": [
        "### Feature scaling"
      ],
      "metadata": {
        "id": "W_SNpTX8Ra6G"
      }
    },
    {
      "cell_type": "code",
      "source": [
        "# scale needed numeric values\n",
        "from sklearn.preprocessing import StandardScaler\n",
        "\n",
        "sc = StandardScaler()\n",
        "X_train = sc.fit_transform(X_train)\n",
        "X_test = sc.transform(X_test)"
      ],
      "metadata": {
        "id": "7jXNkvM3RdRB"
      },
      "execution_count": 11,
      "outputs": []
    },
    {
      "cell_type": "markdown",
      "source": [
        "###Train SVM Model with training data"
      ],
      "metadata": {
        "id": "EtM21iBnhc1-"
      }
    },
    {
      "cell_type": "code",
      "source": [
        "#import SVM and train model with 'rbf' kernal\n",
        "from sklearn.svm import SVC\n",
        "classifier = SVC(kernel=\"rbf\", random_state=20)\n",
        "classifier.fit(X_train, y_train)\n"
      ],
      "metadata": {
        "colab": {
          "base_uri": "https://localhost:8080/"
        },
        "id": "P_dAgHJ9hfxJ",
        "outputId": "1ae45014-0c1c-4257-cc1c-f651fd950363"
      },
      "execution_count": 12,
      "outputs": [
        {
          "output_type": "execute_result",
          "data": {
            "text/plain": [
              "SVC(random_state=20)"
            ]
          },
          "metadata": {},
          "execution_count": 12
        }
      ]
    },
    {
      "cell_type": "markdown",
      "source": [
        "###Predicting mode by test data"
      ],
      "metadata": {
        "id": "zGQMRjF7Gsqy"
      }
    },
    {
      "cell_type": "code",
      "source": [
        "#Predict by model using test dataset\n",
        "y_pred = classifier.predict(X_test)"
      ],
      "metadata": {
        "id": "y_-QviCOGoxH"
      },
      "execution_count": 13,
      "outputs": []
    },
    {
      "cell_type": "markdown",
      "source": [
        "###Accuracy test by Confusion Metrix"
      ],
      "metadata": {
        "id": "w55mhYCYGfU8"
      }
    },
    {
      "cell_type": "code",
      "source": [
        "from sklearn.metrics import confusion_matrix, accuracy_score\n",
        "\n",
        "cm = confusion_matrix(y_test,y_pred)\n",
        "print('Confusion_matrix',cm)\n",
        "\n",
        "ac = accuracy_score(y_test, y_pred)\n",
        "print('SVM model accuracy score : ',ac)"
      ],
      "metadata": {
        "colab": {
          "base_uri": "https://localhost:8080/"
        },
        "id": "5A5KxCF0GcXs",
        "outputId": "8c1b57ac-dba4-4b45-d6f3-8f29870917cf"
      },
      "execution_count": 14,
      "outputs": [
        {
          "output_type": "stream",
          "name": "stdout",
          "text": [
            "Confusion_matrix [[5580  244]\n",
            " [1109  567]]\n",
            "SVM model accuracy score :  0.8196\n"
          ]
        }
      ]
    }
  ]
}